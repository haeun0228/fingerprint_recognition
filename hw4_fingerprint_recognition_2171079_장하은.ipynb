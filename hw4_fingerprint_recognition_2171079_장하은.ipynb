{
 "cells": [
  {
   "cell_type": "code",
   "execution_count": 3,
   "metadata": {},
   "outputs": [
    {
     "name": "stdout",
     "output_type": "stream",
     "text": [
      "Requirement already satisfied: opencv-python in c:\\users\\eilee\\anaconda3\\lib\\site-packages (4.10.0.82)\n",
      "Requirement already satisfied: numpy>=1.17.3; python_version >= \"3.8\" in c:\\users\\eilee\\anaconda3\\lib\\site-packages (from opencv-python) (1.19.2)\n"
     ]
    }
   ],
   "source": [
    "!pip install opencv-python"
   ]
  },
  {
   "cell_type": "code",
   "execution_count": 5,
   "metadata": {},
   "outputs": [],
   "source": [
    "import os\n",
    "import numpy as np\n",
    "import cv2\n",
    "from os.path import join\n",
    "from glob import glob\n",
    "import matplotlib.pyplot as plt\n",
    "import skimage\n",
    "import time\n",
    "from math import sqrt\n",
    "from tqdm.notebook import tqdm\n",
    "from skimage.morphology import skeletonize\n",
    "from os.path import basename\n",
    "from concurrent.futures import ThreadPoolExecutor "
   ]
  },
  {
   "cell_type": "code",
   "execution_count": 6,
   "metadata": {},
   "outputs": [],
   "source": [
    "train_dir = './fingerprint/train.zip'\n",
    "test_dir = './fingerprint/test2.zip'"
   ]
  },
  {
   "cell_type": "code",
   "execution_count": 7,
   "metadata": {},
   "outputs": [],
   "source": [
    "import zipfile\n",
    "with zipfile.ZipFile(train_dir, 'r') as zip_ref:\n",
    "    zip_ref.extractall('./fingerprint')"
   ]
  },
  {
   "cell_type": "code",
   "execution_count": 8,
   "metadata": {},
   "outputs": [],
   "source": [
    "import zipfile\n",
    "with zipfile.ZipFile(test_dir, 'r') as zip_ref:\n",
    "    zip_ref.extractall('./fingerprint')"
   ]
  },
  {
   "cell_type": "code",
   "execution_count": 9,
   "metadata": {},
   "outputs": [],
   "source": [
    "train_dir = './fingerprint/train_ref'\n",
    "test_dir = './fingerprint/test2'"
   ]
  },
  {
   "cell_type": "code",
   "execution_count": 10,
   "metadata": {},
   "outputs": [],
   "source": [
    "train_images = [os.path.join(train_dir, f) for f in os.listdir(train_dir) if f.endswith('.BMP')]\n",
    "test_images = [os.path.join(test_dir, f) for f in os.listdir(test_dir) if f.endswith('.BMP')]"
   ]
  },
  {
   "cell_type": "code",
   "execution_count": 11,
   "metadata": {},
   "outputs": [],
   "source": [
    "#이미지의 각 픽셀 값에서 평균을 빼고, 표준 편차로 나누어 정규화하는 함수 \n",
    "def normalise(img):\n",
    "    return (img-np.mean(img))/(np.std(img))"
   ]
  },
  {
   "cell_type": "code",
   "execution_count": 12,
   "metadata": {},
   "outputs": [],
   "source": [
    "def segmentation(im, w=4, threshold=.2):\n",
    "    (y, x) = im.shape\n",
    "    threshold = np.std(im)*threshold\n",
    "\n",
    "    image_variance = np.zeros(im.shape)\n",
    "    segmented_image = im.copy()\n",
    "    mask = np.ones_like(im)\n",
    "\n",
    "    #w*w 블록 단위로 표준 편차 계산 \n",
    "    for i in range(0, x, w):\n",
    "        for j in range(0, y, w):\n",
    "            box = [i, j, min(i + w, x), min(j + w, y)]\n",
    "            block_stddev = np.std(im[box[1]:box[3], box[0]:box[2]])\n",
    "            image_variance[box[1]:box[3], box[0]:box[2]] = block_stddev\n",
    "\n",
    "    # 임계값 적용 \n",
    "    mask[image_variance < threshold] = 0\n",
    "\n",
    "    # smooth mask with a open/close morphological filter\n",
    "    kernel = cv2.getStructuringElement(cv2.MORPH_ELLIPSE,(w*2, w*2))\n",
    "    mask = cv2.morphologyEx(mask, cv2.MORPH_OPEN, kernel)\n",
    "    mask = cv2.morphologyEx(mask, cv2.MORPH_CLOSE, kernel)\n",
    "\n",
    "    # 이미지 정규화 \n",
    "    segmented_image *= mask\n",
    "\n",
    "    return segmented_image"
   ]
  },
  {
   "cell_type": "code",
   "execution_count": 13,
   "metadata": {},
   "outputs": [],
   "source": [
    "def binarization(img):\n",
    "  img = cv2.cvtColor(img, cv2.COLOR_BGR2GRAY) #gray scale로 변환 \n",
    "  img = cv2.resize(img, (256, 256))  # 크기 조정\n",
    "  img = cv2.GaussianBlur(img, (5, 5), 0)\n",
    "\n",
    "\n",
    "  binary_image = cv2.adaptiveThreshold(img, 255, cv2.ADAPTIVE_THRESH_MEAN_C, cv2.THRESH_BINARY_INV, 11, 2)\n",
    "  return binary_image\n"
   ]
  },
  {
   "cell_type": "code",
   "execution_count": 14,
   "metadata": {},
   "outputs": [],
   "source": [
    "def thinning_morph(image, kernel):\n",
    "    #image = remove_small_objects(image, min_size=50)\n",
    "\n",
    "    thining_image = np.zeros_like(image)\n",
    "    img = image.copy()\n",
    "\n",
    "    while 1:\n",
    "        erosion = cv2.erode(img, kernel, iterations = 1) #침식, 객체 축소\n",
    "        dilatate = cv2.dilate(erosion, kernel, iterations = 1) #팽창, 객체 확장 \n",
    "\n",
    "        subs_img = np.subtract(img, dilatate) #팽창된 이미지와 차이 계산\n",
    "        cv2.bitwise_or(thining_image, subs_img, thining_image) #subs_img를 thining_image (0 행렬)에 병합 \n",
    "        img = erosion.copy() #img = 침식 이미지로 update\n",
    "\n",
    "        done = (np.sum(img) == 0) #img 합이 0이 되면 종료 \n",
    "\n",
    "        if done:\n",
    "          break\n",
    "\n",
    "    # thining_image를 한 픽셀 아래로 이동 \n",
    "    down = np.zeros_like(thining_image)\n",
    "    down[1:-1, :] = thining_image[0:-2, ]\n",
    "    down_mask = np.subtract(down, thining_image)\n",
    "    down_mask[0:-2, :] = down_mask[1:-1, ]\n",
    "    #cv.imshow('down', down_mask)\n",
    "\n",
    "    # thining_image를 한 픽셀 오른쪽으로 이동 \n",
    "    left = np.zeros_like(thining_image)\n",
    "    left[:, 1:-1] = thining_image[:, 0:-2]\n",
    "    left_mask = np.subtract(left, thining_image)\n",
    "    left_mask[:, 0:-2] = left_mask[:, 1:-1]\n",
    "    #cv.imshow('left', left_mask)\n",
    "\n",
    "    # 각 마스크 생성 후 결합하여 thining image 생성 \n",
    "    cv2.bitwise_or(down_mask, down_mask, thining_image)\n",
    "    output = np.zeros_like(thining_image)\n",
    "    output[thining_image < 250] = 255\n",
    "\n",
    "    return output"
   ]
  },
  {
   "cell_type": "code",
   "execution_count": 15,
   "metadata": {},
   "outputs": [],
   "source": [
    "def preprocess_image(image_path):\n",
    "  image = cv2.imread(image_path) \n",
    "  binary_image = binarization(image)\n",
    "  # 이진화\n",
    "  segmented_image = segmentation(binary_image)\n",
    "  kernel = cv2.getStructuringElement(cv2.MORPH_ELLIPSE, (3, 3))\n",
    "  \n",
    "  output = thinning_morph(segmented_image,kernel)\n",
    "  \n",
    "  \n",
    "  return  output\n"
   ]
  },
  {
   "cell_type": "code",
   "execution_count": 16,
   "metadata": {},
   "outputs": [],
   "source": [
    "def minutiae_at(pixels, i, j, kernel_size):\n",
    "    #crossing number 방법을 사용해서 end와 bif를 찾는다. \n",
    "\n",
    "    # 가운데 픽셀이 검정색이라면 \n",
    "    if pixels[i][j] == 1:\n",
    "        #주변 픽셀 위치 \n",
    "        cells = [(-1, -1), (-1, 0), (-1, 1),        # p1 p2 p3\n",
    "                (0, 1),  (1, 1),  (1, 0),            # p8    p4\n",
    "                (1, -1), (0, -1), (-1, -1)]           # p7 p6 p5\n",
    "        #주변 픽셀 값 저장 \n",
    "        values = [pixels[i + l][j + k] for k, l in cells]\n",
    "\n",
    "        # 0에서 1로 또는 1에서 0으로의 변화를 계산 \n",
    "        crossings = 0\n",
    "        for k in range(0, len(values)-1):\n",
    "            crossings += abs(values[k] - values[k + 1])\n",
    "        crossings //= 2\n",
    "\n",
    "        # 교차 수가 1이면 end point\n",
    "        # 교차 수가 3이면 bifurcation point\n",
    "        if crossings == 1:\n",
    "            return \"ending\"\n",
    "        if crossings == 3:\n",
    "            return \"bifurcation\"\n",
    "\n",
    "    return \"none\"\n",
    "\n",
    "\n",
    "def calculate_minutiaes(img, kernel_size=3):\n",
    "    biniry_image = np.zeros_like(img)\n",
    "    biniry_image[img<10] = 1.0\n",
    "    biniry_image = biniry_image.astype(np.int8)\n",
    "\n",
    "    (y, x) = img.shape\n",
    "    result = cv2.cvtColor(img, cv2.COLOR_GRAY2RGB)\n",
    "    colors = {\"ending\" : (255, 0, 0), \"bifurcation\" : (0, 0, 255)}\n",
    "\n",
    "    # iterate each pixel minutia\n",
    "    for i in range(kernel_size//2, x - kernel_size//2):\n",
    "        for j in range(kernel_size//2, y - kernel_size//2):\n",
    "            # ROI 바깥 영역인 경우 무시\n",
    "            #if mask[j,i]==0 \n",
    "                #continue\n",
    "            minutiae = minutiae_at(biniry_image, j, i, kernel_size)\n",
    "            if minutiae != \"none\":\n",
    "                cv2.circle(result, (i,j), radius=2, color=colors[minutiae], thickness=-2)\n",
    "\n",
    "    return result"
   ]
  },
  {
   "cell_type": "code",
   "execution_count": 17,
   "metadata": {},
   "outputs": [],
   "source": [
    "img = preprocess_image(test_images[1])"
   ]
  },
  {
   "cell_type": "code",
   "execution_count": 18,
   "metadata": {},
   "outputs": [
    {
     "data": {
      "text/plain": [
       "array([[[255, 255, 255],\n",
       "        [255, 255, 255],\n",
       "        [255, 255, 255],\n",
       "        ...,\n",
       "        [255, 255, 255],\n",
       "        [255, 255, 255],\n",
       "        [255, 255, 255]],\n",
       "\n",
       "       [[255, 255, 255],\n",
       "        [255, 255, 255],\n",
       "        [255, 255, 255],\n",
       "        ...,\n",
       "        [255, 255, 255],\n",
       "        [255, 255, 255],\n",
       "        [255, 255, 255]],\n",
       "\n",
       "       [[255, 255, 255],\n",
       "        [255, 255, 255],\n",
       "        [255, 255, 255],\n",
       "        ...,\n",
       "        [255, 255, 255],\n",
       "        [255, 255, 255],\n",
       "        [255, 255, 255]],\n",
       "\n",
       "       ...,\n",
       "\n",
       "       [[255, 255, 255],\n",
       "        [255, 255, 255],\n",
       "        [255, 255, 255],\n",
       "        ...,\n",
       "        [255, 255, 255],\n",
       "        [255, 255, 255],\n",
       "        [255, 255, 255]],\n",
       "\n",
       "       [[255, 255, 255],\n",
       "        [255, 255, 255],\n",
       "        [255, 255, 255],\n",
       "        ...,\n",
       "        [255, 255, 255],\n",
       "        [255, 255, 255],\n",
       "        [255, 255, 255]],\n",
       "\n",
       "       [[255, 255, 255],\n",
       "        [255, 255, 255],\n",
       "        [255, 255, 255],\n",
       "        ...,\n",
       "        [255, 255, 255],\n",
       "        [255, 255, 255],\n",
       "        [255, 255, 255]]], dtype=uint8)"
      ]
     },
     "execution_count": 18,
     "metadata": {},
     "output_type": "execute_result"
    }
   ],
   "source": [
    "calculate_minutiaes(img)"
   ]
  },
  {
   "cell_type": "code",
   "execution_count": 19,
   "metadata": {},
   "outputs": [],
   "source": [
    "def extract_minutiae_points(img, kernel_size=3):\n",
    "    biniry_image = np.zeros_like(img)\n",
    "    biniry_image[img < 10] = 1.0\n",
    "    biniry_image = biniry_image.astype(np.int8)\n",
    "\n",
    "    (y, x) = img.shape\n",
    "    minutiae_points = {\"ending\": [], \"bifurcation\": []}\n",
    "\n",
    "    for i in range(kernel_size//2, x - kernel_size//2):\n",
    "        for j in range(kernel_size//2, y - kernel_size//2):\n",
    "            minutiae = minutiae_at(biniry_image, j, i, kernel_size)\n",
    "            if minutiae != \"none\":\n",
    "                minutiae_points[minutiae].append((i, j))\n",
    "\n",
    "    return minutiae_points"
   ]
  },
  {
   "cell_type": "code",
   "execution_count": null,
   "metadata": {},
   "outputs": [
    {
     "data": {
      "application/vnd.jupyter.widget-view+json": {
       "model_id": "07c81a9f092a438cbd18fad300abb061",
       "version_major": 2,
       "version_minor": 0
      },
      "text/plain": [
       "HBox(children=(HTML(value=''), FloatProgress(value=0.0, max=1428.0), HTML(value='')))"
      ]
     },
     "metadata": {},
     "output_type": "display_data"
    }
   ],
   "source": [
    "p_test_images = []\n",
    "for image_path in tqdm(test_images):\n",
    "  preprocessed_image = preprocess_image(image_path)\n",
    "  p_test_images.append(preprocessed_image)"
   ]
  },
  {
   "cell_type": "code",
   "execution_count": null,
   "metadata": {},
   "outputs": [],
   "source": [
    "p_train_images = []\n",
    "for image_path in tqdm(train_images):\n",
    "  preprocessed_image = preprocess_image(image_path)\n",
    "  p_train_images.append(preprocessed_image)"
   ]
  },
  {
   "cell_type": "code",
   "execution_count": null,
   "metadata": {},
   "outputs": [],
   "source": [
    "test_minutiaes = []\n",
    "for test_image in tqdm(p_test_images):\n",
    "  test_minutiae = extract_minutiae_points(test_image)\n",
    "  test_minutiaes.append(test_minutiae)"
   ]
  },
  {
   "cell_type": "code",
   "execution_count": null,
   "metadata": {},
   "outputs": [],
   "source": [
    "train_minutiaes = []\n",
    "for train_image in tqdm(p_train_images):\n",
    "  train_minutiae = extract_minutiae_points(train_image)\n",
    "  train_minutiaes.append(train_minutiae)"
   ]
  },
  {
   "cell_type": "code",
   "execution_count": null,
   "metadata": {},
   "outputs": [],
   "source": [
    "# 좌표 값들의 l2 norm distance 구하기 \n",
    "def l2_norm_distance(points1, points2):\n",
    "    if not points1 or not points2:\n",
    "        return float('inf')\n",
    "    points1 = np.array(points1)\n",
    "    points2 = np.array(points2)\n",
    "    dists = np.linalg.norm(points1[:, np.newaxis] - points2, axis=2)\n",
    "    return np.mean(np.min(dists, axis=1))\n",
    "\n",
    "def precompute_distances(test_minutiae, train_minutiaes):\n",
    "    distances = []\n",
    "    for idx, train_minutiae in enumerate(train_minutiaes):\n",
    "        distance = 0\n",
    "        if test_minutiae[\"ending\"] and train_minutiae[\"ending\"]:\n",
    "            distance += l2_norm_distance(test_minutiae[\"ending\"], train_minutiae[\"ending\"])\n",
    "        if test_minutiae[\"bifurcation\"] and train_minutiae[\"bifurcation\"]:\n",
    "            distance += l2_norm_distance(test_minutiae[\"bifurcation\"], train_minutiae[\"bifurcation\"])\n",
    "        \n",
    "        print(f'{idx}: distance {min_dist}')\n",
    "\n",
    "        distances.append(distance)\n",
    "    return distances\n",
    "\n",
    "def match_fingerprints(test_minutiae, train_minutiaes, kernel_size=3):\n",
    "    precomputed_distances = precompute_distances(test_minutiae, train_minutiaes)\n",
    "    best_match = np.argmin(precomputed_distances)\n",
    "    min_distance = precomputed_distances[best_match]\n",
    "\n",
    "    return best_match, min_distance\n"
   ]
  },
  {
   "cell_type": "code",
   "execution_count": null,
   "metadata": {},
   "outputs": [],
   "source": [
    "import matplotlib.pyplot as plt\n",
    "\n",
    "# 거리 분포 히스토그램 \n",
    "plt.hist(distances, bins=20, color='skyblue', edgecolor='black')\n",
    "\n",
    "plt.xlabel('Distance')\n",
    "plt.ylabel('Frequency')\n",
    "plt.title('Distribution of distances')\n",
    "\n",
    "plt.show()\n"
   ]
  },
  {
   "cell_type": "code",
   "execution_count": null,
   "metadata": {},
   "outputs": [],
   "source": [
    "for idx, test_minutiae in tqdm(enumerate(test_minutiaes)):\n",
    "    best_match_idx, min_dist, distances = match_fingerprints(test_minutiae, train_minutiaes)\n",
    "    test_image_name = test_images[idx].split(\"/\")[-1].split(\".\")[0]\n",
    "    train_image_name = train_images[best_match_idx].split(\"/\")[-1].split(\".\")[0]\n",
    "    print(f'Best match: Test image: {test_image_name} Train image {train_image_name} with distance {min_dist}')\n"
   ]
  },
  {
   "cell_type": "code",
   "execution_count": null,
   "metadata": {},
   "outputs": [],
   "source": [
    "def match_fingerprints(test_image, train_images):\n",
    "    best_match = None\n",
    "    best_score = float('inf')\n",
    "    test_image = np.array(test_image)\n",
    "    for idx, train_image in enumerate(train_images):\n",
    "        train_image = np.array(train_image)\n",
    "        #if test_image.shape == train_image.shape:\n",
    "        score = np.sum((test_image.astype(\"float\") - train_image.astype(\"float\")) ** 2)\n",
    "        if score < best_score:\n",
    "            best_score = score\n",
    "            best_match = idx\n",
    "    return best_match, best_score\n"
   ]
  },
  {
   "cell_type": "code",
   "execution_count": null,
   "metadata": {},
   "outputs": [],
   "source": [
    "matches = {}\n",
    "distances = {}\n",
    "\n",
    "for test_name in test_images:\n",
    "    best_match, best_distance = match_fingerprints(p_test_images, p_train_images)\n",
    "    test_name = test_name.split(\"/\")[-1].split(\".\")[0]\n",
    "    train_name = train_images[best_match].split(\"/\")[-1].split(\".\")[0]\n",
    "   \n",
    "    print(f\"Best match for { test_name}: {train_name} with distance {best_score}\")\n"
   ]
  },
  {
   "cell_type": "code",
   "execution_count": null,
   "metadata": {},
   "outputs": [],
   "source": [
    "def calculate_metrics(distances, threshold):\n",
    "    true_positives = sum(1 for distance in distances if distance < threshold)\n",
    "    false_positives = sum(1 for distance in distances if distance >= threshold)\n",
    "    false_negatives = len(distances) - true_positives\n",
    "    \n",
    "    precision = true_positives / (true_positives + false_positives) if (true_positives + false_positives) > 0 else 0\n",
    "    recall = true_positives / (true_positives + false_negatives) if (true_positives + false_negatives) > 0 else 0\n",
    "    accuracy = true_positives / len(distances)\n",
    "    \n",
    "    FAR = false_positives / len(distances)\n",
    "    FRR = false_negatives / len(distances)\n",
    "    \n",
    "    return precision, recall, FAR, FRR, accuracy"
   ]
  },
  {
   "cell_type": "code",
   "execution_count": null,
   "metadata": {},
   "outputs": [],
   "source": [
    "threshold = 15\n",
    "precision, recall, FAR, FRR, accuracy = calculate_metrics(distances, threshold)\n",
    "print(f\"Precision: {precision}, Recall: {recall}, FAR: {FAR}, FRR: {FRR}, Accuracy: {accuracy}\")"
   ]
  },
  {
   "cell_type": "code",
   "execution_count": null,
   "metadata": {},
   "outputs": [],
   "source": [
    "def calculate_metrics(test_minutiae, train_minutiaes, threshold):\n",
    "    best_match, min_distance, precomputed_distances = match_fingerprints(test_minutiae, train_minutiaes)\n",
    "    \n",
    "    TP = sum(1 for dist in precomputed_distances if dist <= threshold)\n",
    "    FP = sum(1 for dist in precomputed_distances if dist <= threshold) - 1 # Excluding the best match\n",
    "    TN = sum(1 for dist in precomputed_distances if dist > threshold)\n",
    "    FN = 0 if min_distance <= threshold else 1\n",
    "    \n",
    "    precision = TP / (TP + FP) if TP + FP != 0 else 0\n",
    "    recall = TP / (TP + FN) if TP + FN != 0 else 0\n",
    "    FAR = FP / (FP + TN) if FP + TN != 0 else 0\n",
    "    FRR = FN / (FN + TP) if FN + TP != 0 else 0\n",
    "    accuracy = (TP + TN) / (TP + TN + FP + FN)\n",
    "    \n",
    "    return precision, recall, FAR, FRR, accuracy"
   ]
  },
  {
   "cell_type": "code",
   "execution_count": null,
   "metadata": {},
   "outputs": [],
   "source": []
  },
  {
   "cell_type": "code",
   "execution_count": null,
   "metadata": {},
   "outputs": [],
   "source": []
  }
 ],
 "metadata": {
  "kernelspec": {
   "display_name": "Python 3",
   "language": "python",
   "name": "python3"
  }
 },
 "nbformat": 4,
 "nbformat_minor": 4
}
